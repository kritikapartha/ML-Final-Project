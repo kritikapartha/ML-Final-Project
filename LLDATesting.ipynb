{
 "cells": [
  {
   "cell_type": "code",
   "execution_count": 1,
   "metadata": {},
   "outputs": [],
   "source": [
    "import sys\n",
    "sys.path.append('../')\n",
    "import LLDA as llda\n",
    "\n",
    "import os\n",
    "import json"
   ]
  },
  {
   "cell_type": "code",
   "execution_count": 2,
   "metadata": {},
   "outputs": [],
   "source": [
    "def get_leafs(term_tree):\n",
    "    terms = set()\n",
    "    queue = [term_tree]\n",
    "\n",
    "    while(queue):\n",
    "        curr_dict = queue.pop()\n",
    "        for key in curr_dict:\n",
    "            if(curr_dict[key]):\n",
    "                queue.append(curr_dict[key])\n",
    "            else:\n",
    "                terms.add(key.lower())\n",
    "    return terms\n",
    "\n",
    "dataset_dir = \"./dataset\"\n",
    "\n",
    "labeled_documents = []\n",
    "\n",
    "for doi in os.listdir(dataset_dir):\n",
    "    text_path = os.path.join(dataset_dir, doi, f\"{doi}.txt\")\n",
    "    if(not os.path.exists(text_path)):\n",
    "        continue\n",
    "    text = open(text_path, encoding=\"utf-8\", errors=\"ignore\").read()\n",
    "    \n",
    "    terms_path = os.path.join(dataset_dir, doi, f\"{doi}.json\")\n",
    "    if(not os.path.exists(terms_path)):\n",
    "        continue\n",
    "    \n",
    "    gt_term_tree = json.load(open(terms_path))\n",
    "    gt_terms = get_leafs(gt_term_tree)\n",
    "    \n",
    "    labeled_documents.append((text, list(gt_terms)))"
   ]
  },
  {
   "cell_type": "code",
   "execution_count": 3,
   "metadata": {},
   "outputs": [
    {
     "name": "stdout",
     "output_type": "stream",
     "text": [
      "\n",
      "Labeled-LDA Model:\n",
      "\tK = 143\n",
      "\tM = 137\n",
      "\tT = 106523\n",
      "\tWN = 1091712\n",
      "\tLN = 358\n",
      "\talpha = 0.01\n",
      "\teta = 0.001\n",
      "\tperplexity = 1925.7680167071444\n",
      "\t\n",
      "iteration 1 sampling...\n",
      "gibbs sample count:  1091712\n",
      "after iteration: 1, perplexity: 1740.6882151379436\n",
      "delta beta: 102.83698105452528\n",
      "iteration 2 sampling...\n",
      "gibbs sample count:  1091712\n",
      "after iteration: 2, perplexity: 1709.899807776168\n",
      "delta beta: 54.67326460224616\n",
      "iteration 3 sampling...\n",
      "gibbs sample count:  1091712\n",
      "after iteration: 3, perplexity: 1698.980268614891\n",
      "delta beta: 45.86089945716773\n",
      "iteration 4 sampling...\n",
      "gibbs sample count:  1091712\n",
      "after iteration: 4, perplexity: 1695.2869054529367\n",
      "delta beta: 42.52762792704342\n",
      "iteration 5 sampling...\n",
      "gibbs sample count:  1091712\n",
      "after iteration: 5, perplexity: 1693.563905203378\n",
      "delta beta: 41.027677151263305\n",
      "iteration 6 sampling...\n",
      "gibbs sample count:  1091712\n",
      "after iteration: 6, perplexity: 1692.5695891442679\n",
      "delta beta: 39.27094403700969\n",
      "iteration 7 sampling...\n",
      "gibbs sample count:  1091712\n",
      "after iteration: 7, perplexity: 1691.0666387076817\n",
      "delta beta: 38.71466275263274\n",
      "iteration 8 sampling...\n",
      "gibbs sample count:  1091712\n",
      "after iteration: 8, perplexity: 1690.606918694916\n",
      "delta beta: 38.40806847772501\n",
      "iteration 9 sampling...\n",
      "gibbs sample count:  1091712\n",
      "after iteration: 9, perplexity: 1690.7773871716165\n",
      "delta beta: 37.93930803276386\n",
      "iteration 10 sampling...\n",
      "gibbs sample count:  1091712\n",
      "after iteration: 10, perplexity: 1689.3087425986616\n",
      "delta beta: 37.36710333135398\n"
     ]
    }
   ],
   "source": [
    "# new a Labeled LDA model\n",
    "# llda_model = llda.LldaModel(labeled_documents=labeled_documents, alpha_vector=\"50_div_K\", eta_vector=0.001)\n",
    "# llda_model = llda.LldaModel(labeled_documents=labeled_documents, alpha_vector=0.02, eta_vector=0.002)\n",
    "llda_model = llda.LldaModel(labeled_documents=labeled_documents[1:], alpha_vector=0.01)\n",
    "print(llda_model)\n",
    "\n",
    "# training\n",
    "# llda_model.training(iteration=10, log=True)\n",
    "while True:\n",
    "    print(\"iteration %s sampling...\" % (llda_model.iteration + 1))\n",
    "    llda_model.training(1)\n",
    "    print(\"after iteration: %s, perplexity: %s\" % (llda_model.iteration, llda_model.perplexity()))\n",
    "    print(\"delta beta: %s\" % llda_model.delta_beta)\n",
    "    if llda_model.iteration == 20:\n",
    "        break\n",
    "    if llda_model.is_convergent(method=\"beta\", delta=0.01):\n",
    "        break"
   ]
  },
  {
   "cell_type": "code",
   "execution_count": 5,
   "metadata": {},
   "outputs": [],
   "source": [
    "document = labeled_documents[0][0]\n",
    "\n",
    "topics = llda_model.inference(document=document, iteration=100, times=10)"
   ]
  },
  {
   "cell_type": "code",
   "execution_count": 6,
   "metadata": {},
   "outputs": [
    {
     "name": "stdout",
     "output_type": "stream",
     "text": [
      "[('common_topic', 0.581244299599682), ('touch screens', 0.09407234690489696), ('logic', 0.05190369519506322), ('ethnographic studies', 0.043698934907629515), ('cultural characteristics', 0.04263040798647536), ('computing / technology policy', 0.04163820441683221), ('project management techniques', 0.03576130635048434), ('interaction design', 0.026449857466140963), ('religious orientation', 0.017901642096907696), ('hci theory, concepts and models', 0.016680468472731518), ('personal computers and pc applications', 0.01603171998488792), ('empirical studies in hci', 0.014085474521357132), ('sound and music computing', 0.006224169315722972), ('seniors', 0.004010792121903643), ('object oriented languages', 0.0027896184977274628), ('social network analysis', 0.0014157981705292593), ('real-time systems', 0.0010723430887297086), ('agile software development', 0.0004617562766416183), ('information systems applications', 0.0004235946008861127), ('geographic characteristics', 0.00034727124937510137), ('user centered design', 0.00015646287059757315), ('software verification and validation', 0.0001183011948420675), ('student assessment', 0.0001183011948420675), ('computing methodologies', 8.013951908656186e-05), ('project staffing', 4.197784333105621e-05), ('virtual reality', 4.197784333105621e-05), ('collaborative and social computing design and evaluation methods', 4.197784333105621e-05), ('health informatics', 4.197784333105621e-05), ('supervised learning by classification', 4.197784333105621e-05), ('philosophical/theoretical foundations of artificial intelligence', 4.197784333105621e-05), ('temporal reasoning', 3.8161675755505644e-06), ('machine learning', 3.8161675755505644e-06), ('information science education', 3.8161675755505644e-06), ('collaborative and social computing systems and tools', 3.8161675755505644e-06), ('human-centered computing', 3.8161675755505644e-06), ('surveys and overviews', 3.8161675755505644e-06), ('computer science education', 3.8161675755505644e-06), ('psychology', 3.8161675755505644e-06), ('sensors and actuators', 3.8161675755505644e-06), ('sensor devices and platforms', 3.8161675755505644e-06), ('multi-agent systems', 3.8161675755505644e-06), ('artificial intelligence', 3.8161675755505644e-06), ('model development and analysis', 3.8161675755505644e-06), ('interaction paradigms', 3.8161675755505644e-06), ('collaborative and social computing', 3.8161675755505644e-06), ('beamforming', 3.8161675755505644e-06), ('object recognition', 3.8161675755505644e-06), ('document preparation', 3.8161675755505644e-06), ('economics', 3.8161675755505644e-06), ('cartography', 3.8161675755505644e-06), ('race and ethnicity', 3.8161675755505644e-06), ('interactive games', 3.8161675755505644e-06), ('security services', 3.8161675755505644e-06), ('information technology education', 3.8161675755505644e-06), ('data mining', 3.8161675755505644e-06), ('web searching and information discovery', 3.8161675755505644e-06), ('sexual orientation', 3.8161675755505644e-06), ('hci design and evaluation methods', 3.8161675755505644e-06), ('computer games', 3.8161675755505644e-06), ('social aspects of security and privacy', 3.8161675755505644e-06), ('human computer interaction (hci)', 3.8161675755505644e-06), ('feature selection', 3.8161675755505644e-06), ('informal education', 3.8161675755505644e-06), ('embedded and cyber-physical systems', 3.8161675755505644e-06), ('simulation theory', 3.8161675755505644e-06), ('people with disabilities', 3.8161675755505644e-06), ('object oriented frameworks', 3.8161675755505644e-06), ('object oriented development', 3.8161675755505644e-06), ('applied computing', 3.8161675755505644e-06), ('consumer health', 3.8161675755505644e-06), ('life and medical sciences', 3.8161675755505644e-06), ('testing, certification and licensing', 3.8161675755505644e-06), ('government technology policy', 3.8161675755505644e-06), ('adolescents', 3.8161675755505644e-06), ('digital signal processing', 3.8161675755505644e-06), ('distributed systems organizing principles', 3.8161675755505644e-06), ('software configuration management and version control systems', 3.8161675755505644e-06), ('social media', 3.8161675755505644e-06), ('auditory feedback', 3.8161675755505644e-06), ('computing education', 3.8161675755505644e-06), ('computing education programs', 3.8161675755505644e-06), ('biometrics', 3.8161675755505644e-06), ('massively multiplayer online games', 3.8161675755505644e-06), ('social networks', 3.8161675755505644e-06), ('information extraction', 3.8161675755505644e-06), ('empirical studies', 3.8161675755505644e-06), ('gender', 3.8161675755505644e-06), ('empirical studies in collaborative and social computing', 3.8161675755505644e-06), ('history of computing', 3.8161675755505644e-06), ('sociology', 3.8161675755505644e-06), ('collaboration in software development', 3.8161675755505644e-06), ('scene understanding', 3.8161675755505644e-06), ('computer and information systems training', 3.8161675755505644e-06), ('user models', 3.8161675755505644e-06), ('children', 3.8161675755505644e-06), ('business process management', 3.8161675755505644e-06), ('unsupervised learning', 3.8161675755505644e-06), ('knowledge representation and reasoning', 3.8161675755505644e-06), ('platform power issues', 3.8161675755505644e-06), ('general conference proceedings', 3.8161675755505644e-06), ('context specific languages', 3.8161675755505644e-06), ('supervised learning by regression', 3.8161675755505644e-06), ('matching', 3.8161675755505644e-06), ('computer vision', 3.8161675755505644e-06), ('computing occupations', 3.8161675755505644e-06), ('ambient intelligence', 3.8161675755505644e-06), ('empirical studies in interaction design', 3.8161675755505644e-06), ('neural networks', 3.8161675755505644e-06), ('marketing', 3.8161675755505644e-06), ('social and professional topics', 3.8161675755505644e-06), ('law, social and behavioral sciences', 3.8161675755505644e-06), ('men', 3.8161675755505644e-06), ('hardware selection', 3.8161675755505644e-06), ('learning paradigms', 3.8161675755505644e-06), ('computers in other domains', 3.8161675755505644e-06), ('project and people management', 3.8161675755505644e-06), ('mixed / augmented reality', 3.8161675755505644e-06), ('ethnography', 3.8161675755505644e-06), ('education', 3.8161675755505644e-06), ('history of software', 3.8161675755505644e-06), ('document searching', 3.8161675755505644e-06), ('cs1', 3.8161675755505644e-06), ('web-based interaction', 3.8161675755505644e-06), ('field studies', 3.8161675755505644e-06), ('participatory design', 3.8161675755505644e-06), ('women', 3.8161675755505644e-06), ('privacy protections', 3.8161675755505644e-06), ('enterprise computing', 3.8161675755505644e-06), ('electronic commerce', 3.8161675755505644e-06), ('ubiquitous computing', 3.8161675755505644e-06), ('age', 3.8161675755505644e-06), ('human and societal aspects of security and privacy', 3.8161675755505644e-06), ('assistive technologies', 3.8161675755505644e-06), ('computing industry', 3.8161675755505644e-06), ('natural language processing', 3.8161675755505644e-06), ('accessibility', 3.8161675755505644e-06), ('health care information systems', 3.8161675755505644e-06), ('information theory', 3.8161675755505644e-06), ('employment issues', 3.8161675755505644e-06), ('internet communications tools', 3.8161675755505644e-06), ('sound-based input / output', 3.8161675755505644e-06), ('multimedia information systems', 3.8161675755505644e-06), ('software development process management', 3.8161675755505644e-06)]\n",
      "['human computer interaction (hci)', 'interaction design', 'religious orientation', 'cultural characteristics']\n"
     ]
    }
   ],
   "source": [
    "print(topics)\n",
    "print(labeled_documents[0][1])"
   ]
  }
 ],
 "metadata": {
  "kernelspec": {
   "display_name": "Python 3",
   "language": "python",
   "name": "python3"
  },
  "language_info": {
   "codemirror_mode": {
    "name": "ipython",
    "version": 3
   },
   "file_extension": ".py",
   "mimetype": "text/x-python",
   "name": "python",
   "nbconvert_exporter": "python",
   "pygments_lexer": "ipython3",
   "version": "3.11.5"
  }
 },
 "nbformat": 4,
 "nbformat_minor": 2
}
